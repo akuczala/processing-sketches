{
 "cells": [
  {
   "cell_type": "code",
   "execution_count": 3,
   "metadata": {},
   "outputs": [],
   "source": [
    "import numpy as np\n",
    "import matplotlib.pyplot as plt\n",
    "%matplotlib inline"
   ]
  },
  {
   "cell_type": "code",
   "execution_count": 91,
   "metadata": {},
   "outputs": [
    {
     "data": {
      "text/html": [
       "<img  src=\"data:image/png;base64,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\">"
      ],
      "text/plain": [
       "<IPython.core.display.HTML object>"
      ]
     },
     "execution_count": 91,
     "metadata": {},
     "output_type": "execute_result"
    }
   ],
   "source": [
    "surface = gizeh.Surface(width=250, height=250) # in pixels\n",
    "for angles, color in zip([(0,np.pi/2),(np.pi/2,np.pi),(np.pi,np.pi*3/2)],[(1,0,0),(0,1,0),(0,0,1)]):\n",
    "    test = gizeh.arc(100,angles[0],angles[1],xy=[125,125],fill=color)\n",
    "    test.draw(surface)\n",
    "gizeh.\n",
    "surface.ipython_display()"
   ]
  },
  {
   "cell_type": "code",
   "execution_count": 175,
   "metadata": {},
   "outputs": [
    {
     "data": {
      "image/svg+xml": [
       "<svg height=\"300pt\" version=\"1.1\" viewBox=\"0 0 300 300\" width=\"300pt\" xmlns=\"http://www.w3.org/2000/svg\" xmlns:xlink=\"http://www.w3.org/1999/xlink\">\n",
       "<defs>\n",
       "<radialGradient cx=\"0\" cy=\"0\" fx=\"0\" fy=\"0\" gradientTransform=\"matrix(300,0,0,300,150,150)\" gradientUnits=\"userSpaceOnUse\" id=\"radial0\" r=\"1\">\n",
       "<stop offset=\"0\" style=\"stop-color:rgb(100%,100%,100%);stop-opacity:1;\"/>\n",
       "<stop offset=\"0.4\" style=\"stop-color:rgb(100%,0%,0%);stop-opacity:1;\"/>\n",
       "</radialGradient>\n",
       "<radialGradient cx=\"0\" cy=\"0\" fx=\"0\" fy=\"0\" gradientTransform=\"matrix(300,0,0,300,150,150)\" gradientUnits=\"userSpaceOnUse\" id=\"radial1\" r=\"1\">\n",
       "<stop offset=\"0\" style=\"stop-color:rgb(100%,100%,100%);stop-opacity:1;\"/>\n",
       "<stop offset=\"0.4\" style=\"stop-color:rgb(100%,6.741573%,0%);stop-opacity:1;\"/>\n",
       "</radialGradient>\n",
       "<radialGradient cx=\"0\" cy=\"0\" fx=\"0\" fy=\"0\" gradientTransform=\"matrix(300,0,0,300,150,150)\" gradientUnits=\"userSpaceOnUse\" id=\"radial2\" r=\"1\">\n",
       "<stop offset=\"0\" style=\"stop-color:rgb(100%,100%,100%);stop-opacity:1;\"/>\n",
       "<stop offset=\"0.4\" style=\"stop-color:rgb(100%,13.483146%,0%);stop-opacity:1;\"/>\n",
       "</radialGradient>\n",
       "<radialGradient cx=\"0\" cy=\"0\" fx=\"0\" fy=\"0\" gradientTransform=\"matrix(300,0,0,300,150,150)\" gradientUnits=\"userSpaceOnUse\" id=\"radial3\" r=\"1\">\n",
       "<stop offset=\"0\" style=\"stop-color:rgb(100%,100%,100%);stop-opacity:1;\"/>\n",
       "<stop offset=\"0.4\" style=\"stop-color:rgb(100%,20.224719%,0%);stop-opacity:1;\"/>\n",
       "</radialGradient>\n",
       "<radialGradient cx=\"0\" cy=\"0\" fx=\"0\" fy=\"0\" gradientTransform=\"matrix(300,0,0,300,150,150)\" gradientUnits=\"userSpaceOnUse\" id=\"radial4\" r=\"1\">\n",
       "<stop offset=\"0\" style=\"stop-color:rgb(100%,100%,100%);stop-opacity:1;\"/>\n",
       "<stop offset=\"0.4\" style=\"stop-color:rgb(100%,26.966292%,0%);stop-opacity:1;\"/>\n",
       "</radialGradient>\n",
       "<radialGradient cx=\"0\" cy=\"0\" fx=\"0\" fy=\"0\" gradientTransform=\"matrix(300,0,0,300,150,150)\" gradientUnits=\"userSpaceOnUse\" id=\"radial5\" r=\"1\">\n",
       "<stop offset=\"0\" style=\"stop-color:rgb(100%,100%,100%);stop-opacity:1;\"/>\n",
       "<stop offset=\"0.4\" style=\"stop-color:rgb(100%,33.707865%,0%);stop-opacity:1;\"/>\n",
       "</radialGradient>\n",
       "<radialGradient cx=\"0\" cy=\"0\" fx=\"0\" fy=\"0\" gradientTransform=\"matrix(300,0,0,300,150,150)\" gradientUnits=\"userSpaceOnUse\" id=\"radial6\" r=\"1\">\n",
       "<stop offset=\"0\" style=\"stop-color:rgb(100%,100%,100%);stop-opacity:1;\"/>\n",
       "<stop offset=\"0.4\" style=\"stop-color:rgb(100%,40.449438%,0%);stop-opacity:1;\"/>\n",
       "</radialGradient>\n",
       "<radialGradient cx=\"0\" cy=\"0\" fx=\"0\" fy=\"0\" gradientTransform=\"matrix(300,0,0,300,150,150)\" gradientUnits=\"userSpaceOnUse\" id=\"radial7\" r=\"1\">\n",
       "<stop offset=\"0\" style=\"stop-color:rgb(100%,100%,100%);stop-opacity:1;\"/>\n",
       "<stop offset=\"0.4\" style=\"stop-color:rgb(100%,47.191011%,0%);stop-opacity:1;\"/>\n",
       "</radialGradient>\n",
       "<radialGradient cx=\"0\" cy=\"0\" fx=\"0\" fy=\"0\" gradientTransform=\"matrix(300,0,0,300,150,150)\" gradientUnits=\"userSpaceOnUse\" id=\"radial8\" r=\"1\">\n",
       "<stop offset=\"0\" style=\"stop-color:rgb(100%,100%,100%);stop-opacity:1;\"/>\n",
       "<stop offset=\"0.4\" style=\"stop-color:rgb(100%,53.932584%,0%);stop-opacity:1;\"/>\n",
       "</radialGradient>\n",
       "<radialGradient cx=\"0\" cy=\"0\" fx=\"0\" fy=\"0\" gradientTransform=\"matrix(300,0,0,300,150,150)\" gradientUnits=\"userSpaceOnUse\" id=\"radial9\" r=\"1\">\n",
       "<stop offset=\"0\" style=\"stop-color:rgb(100%,100%,100%);stop-opacity:1;\"/>\n",
       "<stop offset=\"0.4\" style=\"stop-color:rgb(100%,60.674157%,0%);stop-opacity:1;\"/>\n",
       "</radialGradient>\n",
       "<radialGradient cx=\"0\" cy=\"0\" fx=\"0\" fy=\"0\" gradientTransform=\"matrix(300,0,0,300,150,150)\" gradientUnits=\"userSpaceOnUse\" id=\"radial10\" r=\"1\">\n",
       "<stop offset=\"0\" style=\"stop-color:rgb(100%,100%,100%);stop-opacity:1;\"/>\n",
       "<stop offset=\"0.4\" style=\"stop-color:rgb(100%,67.41573%,0%);stop-opacity:1;\"/>\n",
       "</radialGradient>\n",
       "<radialGradient cx=\"0\" cy=\"0\" fx=\"0\" fy=\"0\" gradientTransform=\"matrix(300,0,0,300,150,150)\" gradientUnits=\"userSpaceOnUse\" id=\"radial11\" r=\"1\">\n",
       "<stop offset=\"0\" style=\"stop-color:rgb(100%,100%,100%);stop-opacity:1;\"/>\n",
       "<stop offset=\"0.4\" style=\"stop-color:rgb(100%,74.157303%,0%);stop-opacity:1;\"/>\n",
       "</radialGradient>\n",
       "<radialGradient cx=\"0\" cy=\"0\" fx=\"0\" fy=\"0\" gradientTransform=\"matrix(300,0,0,300,150,150)\" gradientUnits=\"userSpaceOnUse\" id=\"radial12\" r=\"1\">\n",
       "<stop offset=\"0\" style=\"stop-color:rgb(100%,100%,100%);stop-opacity:1;\"/>\n",
       "<stop offset=\"0.4\" style=\"stop-color:rgb(100%,80.898876%,0%);stop-opacity:1;\"/>\n",
       "</radialGradient>\n",
       "<radialGradient cx=\"0\" cy=\"0\" fx=\"0\" fy=\"0\" gradientTransform=\"matrix(300,0,0,300,150,150)\" gradientUnits=\"userSpaceOnUse\" id=\"radial13\" r=\"1\">\n",
       "<stop offset=\"0\" style=\"stop-color:rgb(100%,100%,100%);stop-opacity:1;\"/>\n",
       "<stop offset=\"0.4\" style=\"stop-color:rgb(100%,87.640449%,0%);stop-opacity:1;\"/>\n",
       "</radialGradient>\n",
       "<radialGradient cx=\"0\" cy=\"0\" fx=\"0\" fy=\"0\" gradientTransform=\"matrix(300,0,0,300,150,150)\" gradientUnits=\"userSpaceOnUse\" id=\"radial14\" r=\"1\">\n",
       "<stop offset=\"0\" style=\"stop-color:rgb(100%,100%,100%);stop-opacity:1;\"/>\n",
       "<stop offset=\"0.4\" style=\"stop-color:rgb(100%,94.382022%,0%);stop-opacity:1;\"/>\n",
       "</radialGradient>\n",
       "<radialGradient cx=\"0\" cy=\"0\" fx=\"0\" fy=\"0\" gradientTransform=\"matrix(300,0,0,300,150,150)\" gradientUnits=\"userSpaceOnUse\" id=\"radial15\" r=\"1\">\n",
       "<stop offset=\"0\" style=\"stop-color:rgb(100%,100%,100%);stop-opacity:1;\"/>\n",
       "<stop offset=\"0.4\" style=\"stop-color:rgb(98.876404%,100%,0%);stop-opacity:1;\"/>\n",
       "</radialGradient>\n",
       "<radialGradient cx=\"0\" cy=\"0\" fx=\"0\" fy=\"0\" gradientTransform=\"matrix(300,0,0,300,150,150)\" gradientUnits=\"userSpaceOnUse\" id=\"radial16\" r=\"1\">\n",
       "<stop offset=\"0\" style=\"stop-color:rgb(100%,100%,100%);stop-opacity:1;\"/>\n",
       "<stop offset=\"0.4\" style=\"stop-color:rgb(92.134831%,100%,0%);stop-opacity:1;\"/>\n",
       "</radialGradient>\n",
       "<radialGradient cx=\"0\" cy=\"0\" fx=\"0\" fy=\"0\" gradientTransform=\"matrix(300,0,0,300,150,150)\" gradientUnits=\"userSpaceOnUse\" id=\"radial17\" r=\"1\">\n",
       "<stop offset=\"0\" style=\"stop-color:rgb(100%,100%,100%);stop-opacity:1;\"/>\n",
       "<stop offset=\"0.4\" style=\"stop-color:rgb(85.393258%,100%,0%);stop-opacity:1;\"/>\n",
       "</radialGradient>\n",
       "<radialGradient cx=\"0\" cy=\"0\" fx=\"0\" fy=\"0\" gradientTransform=\"matrix(300,0,0,300,150,150)\" gradientUnits=\"userSpaceOnUse\" id=\"radial18\" r=\"1\">\n",
       "<stop offset=\"0\" style=\"stop-color:rgb(100%,100%,100%);stop-opacity:1;\"/>\n",
       "<stop offset=\"0.4\" style=\"stop-color:rgb(78.651685%,100%,0%);stop-opacity:1;\"/>\n",
       "</radialGradient>\n",
       "<radialGradient cx=\"0\" cy=\"0\" fx=\"0\" fy=\"0\" gradientTransform=\"matrix(300,0,0,300,150,150)\" gradientUnits=\"userSpaceOnUse\" id=\"radial19\" r=\"1\">\n",
       "<stop offset=\"0\" style=\"stop-color:rgb(100%,100%,100%);stop-opacity:1;\"/>\n",
       "<stop offset=\"0.4\" style=\"stop-color:rgb(71.910112%,100%,0%);stop-opacity:1;\"/>\n",
       "</radialGradient>\n",
       "<radialGradient cx=\"0\" cy=\"0\" fx=\"0\" fy=\"0\" gradientTransform=\"matrix(300,0,0,300,150,150)\" gradientUnits=\"userSpaceOnUse\" id=\"radial20\" r=\"1\">\n",
       "<stop offset=\"0\" style=\"stop-color:rgb(100%,100%,100%);stop-opacity:1;\"/>\n",
       "<stop offset=\"0.4\" style=\"stop-color:rgb(65.168539%,100%,0%);stop-opacity:1;\"/>\n",
       "</radialGradient>\n",
       "<radialGradient cx=\"0\" cy=\"0\" fx=\"0\" fy=\"0\" gradientTransform=\"matrix(300,0,0,300,150,150)\" gradientUnits=\"userSpaceOnUse\" id=\"radial21\" r=\"1\">\n",
       "<stop offset=\"0\" style=\"stop-color:rgb(100%,100%,100%);stop-opacity:1;\"/>\n",
       "<stop offset=\"0.4\" style=\"stop-color:rgb(58.426966%,100%,0%);stop-opacity:1;\"/>\n",
       "</radialGradient>\n",
       "<radialGradient cx=\"0\" cy=\"0\" fx=\"0\" fy=\"0\" gradientTransform=\"matrix(300,0,0,300,150,150)\" gradientUnits=\"userSpaceOnUse\" id=\"radial22\" r=\"1\">\n",
       "<stop offset=\"0\" style=\"stop-color:rgb(100%,100%,100%);stop-opacity:1;\"/>\n",
       "<stop offset=\"0.4\" style=\"stop-color:rgb(51.685393%,100%,0%);stop-opacity:1;\"/>\n",
       "</radialGradient>\n",
       "<radialGradient cx=\"0\" cy=\"0\" fx=\"0\" fy=\"0\" gradientTransform=\"matrix(300,0,0,300,150,150)\" gradientUnits=\"userSpaceOnUse\" id=\"radial23\" r=\"1\">\n",
       "<stop offset=\"0\" style=\"stop-color:rgb(100%,100%,100%);stop-opacity:1;\"/>\n",
       "<stop offset=\"0.4\" style=\"stop-color:rgb(44.94382%,100%,0%);stop-opacity:1;\"/>\n",
       "</radialGradient>\n",
       "<radialGradient cx=\"0\" cy=\"0\" fx=\"0\" fy=\"0\" gradientTransform=\"matrix(300,0,0,300,150,150)\" gradientUnits=\"userSpaceOnUse\" id=\"radial24\" r=\"1\">\n",
       "<stop offset=\"0\" style=\"stop-color:rgb(100%,100%,100%);stop-opacity:1;\"/>\n",
       "<stop offset=\"0.4\" style=\"stop-color:rgb(38.202247%,100%,0%);stop-opacity:1;\"/>\n",
       "</radialGradient>\n",
       "<radialGradient cx=\"0\" cy=\"0\" fx=\"0\" fy=\"0\" gradientTransform=\"matrix(300,0,0,300,150,150)\" gradientUnits=\"userSpaceOnUse\" id=\"radial25\" r=\"1\">\n",
       "<stop offset=\"0\" style=\"stop-color:rgb(100%,100%,100%);stop-opacity:1;\"/>\n",
       "<stop offset=\"0.4\" style=\"stop-color:rgb(31.460674%,100%,0%);stop-opacity:1;\"/>\n",
       "</radialGradient>\n",
       "<radialGradient cx=\"0\" cy=\"0\" fx=\"0\" fy=\"0\" gradientTransform=\"matrix(300,0,0,300,150,150)\" gradientUnits=\"userSpaceOnUse\" id=\"radial26\" r=\"1\">\n",
       "<stop offset=\"0\" style=\"stop-color:rgb(100%,100%,100%);stop-opacity:1;\"/>\n",
       "<stop offset=\"0.4\" style=\"stop-color:rgb(24.719101%,100%,0%);stop-opacity:1;\"/>\n",
       "</radialGradient>\n",
       "<radialGradient cx=\"0\" cy=\"0\" fx=\"0\" fy=\"0\" gradientTransform=\"matrix(300,0,0,300,150,150)\" gradientUnits=\"userSpaceOnUse\" id=\"radial27\" r=\"1\">\n",
       "<stop offset=\"0\" style=\"stop-color:rgb(100%,100%,100%);stop-opacity:1;\"/>\n",
       "<stop offset=\"0.4\" style=\"stop-color:rgb(17.977528%,100%,0%);stop-opacity:1;\"/>\n",
       "</radialGradient>\n",
       "<radialGradient cx=\"0\" cy=\"0\" fx=\"0\" fy=\"0\" gradientTransform=\"matrix(300,0,0,300,150,150)\" gradientUnits=\"userSpaceOnUse\" id=\"radial28\" r=\"1\">\n",
       "<stop offset=\"0\" style=\"stop-color:rgb(100%,100%,100%);stop-opacity:1;\"/>\n",
       "<stop offset=\"0.4\" style=\"stop-color:rgb(11.235955%,100%,0%);stop-opacity:1;\"/>\n",
       "</radialGradient>\n",
       "<radialGradient cx=\"0\" cy=\"0\" fx=\"0\" fy=\"0\" gradientTransform=\"matrix(300,0,0,300,150,150)\" gradientUnits=\"userSpaceOnUse\" id=\"radial29\" r=\"1\">\n",
       "<stop offset=\"0\" style=\"stop-color:rgb(100%,100%,100%);stop-opacity:1;\"/>\n",
       "<stop offset=\"0.4\" style=\"stop-color:rgb(4.494382%,100%,0%);stop-opacity:1;\"/>\n",
       "</radialGradient>\n",
       "<radialGradient cx=\"0\" cy=\"0\" fx=\"0\" fy=\"0\" gradientTransform=\"matrix(300,0,0,300,150,150)\" gradientUnits=\"userSpaceOnUse\" id=\"radial30\" r=\"1\">\n",
       "<stop offset=\"0\" style=\"stop-color:rgb(100%,100%,100%);stop-opacity:1;\"/>\n",
       "<stop offset=\"0.4\" style=\"stop-color:rgb(0%,100%,2.247191%);stop-opacity:1;\"/>\n",
       "</radialGradient>\n",
       "<radialGradient cx=\"0\" cy=\"0\" fx=\"0\" fy=\"0\" gradientTransform=\"matrix(300,0,0,300,150,150)\" gradientUnits=\"userSpaceOnUse\" id=\"radial31\" r=\"1\">\n",
       "<stop offset=\"0\" style=\"stop-color:rgb(100%,100%,100%);stop-opacity:1;\"/>\n",
       "<stop offset=\"0.4\" style=\"stop-color:rgb(0%,100%,8.988764%);stop-opacity:1;\"/>\n",
       "</radialGradient>\n",
       "<radialGradient cx=\"0\" cy=\"0\" fx=\"0\" fy=\"0\" gradientTransform=\"matrix(300,0,0,300,150,150)\" gradientUnits=\"userSpaceOnUse\" id=\"radial32\" r=\"1\">\n",
       "<stop offset=\"0\" style=\"stop-color:rgb(100%,100%,100%);stop-opacity:1;\"/>\n",
       "<stop offset=\"0.4\" style=\"stop-color:rgb(0%,100%,15.730337%);stop-opacity:1;\"/>\n",
       "</radialGradient>\n",
       "<radialGradient cx=\"0\" cy=\"0\" fx=\"0\" fy=\"0\" gradientTransform=\"matrix(300,0,0,300,150,150)\" gradientUnits=\"userSpaceOnUse\" id=\"radial33\" r=\"1\">\n",
       "<stop offset=\"0\" style=\"stop-color:rgb(100%,100%,100%);stop-opacity:1;\"/>\n",
       "<stop offset=\"0.4\" style=\"stop-color:rgb(0%,100%,22.47191%);stop-opacity:1;\"/>\n",
       "</radialGradient>\n",
       "<radialGradient cx=\"0\" cy=\"0\" fx=\"0\" fy=\"0\" gradientTransform=\"matrix(300,0,0,300,150,150)\" gradientUnits=\"userSpaceOnUse\" id=\"radial34\" r=\"1\">\n",
       "<stop offset=\"0\" style=\"stop-color:rgb(100%,100%,100%);stop-opacity:1;\"/>\n",
       "<stop offset=\"0.4\" style=\"stop-color:rgb(0%,100%,29.213483%);stop-opacity:1;\"/>\n",
       "</radialGradient>\n",
       "<radialGradient cx=\"0\" cy=\"0\" fx=\"0\" fy=\"0\" gradientTransform=\"matrix(300,0,0,300,150,150)\" gradientUnits=\"userSpaceOnUse\" id=\"radial35\" r=\"1\">\n",
       "<stop offset=\"0\" style=\"stop-color:rgb(100%,100%,100%);stop-opacity:1;\"/>\n",
       "<stop offset=\"0.4\" style=\"stop-color:rgb(0%,100%,35.955056%);stop-opacity:1;\"/>\n",
       "</radialGradient>\n",
       "<radialGradient cx=\"0\" cy=\"0\" fx=\"0\" fy=\"0\" gradientTransform=\"matrix(300,0,0,300,150,150)\" gradientUnits=\"userSpaceOnUse\" id=\"radial36\" r=\"1\">\n",
       "<stop offset=\"0\" style=\"stop-color:rgb(100%,100%,100%);stop-opacity:1;\"/>\n",
       "<stop offset=\"0.4\" style=\"stop-color:rgb(0%,100%,42.696629%);stop-opacity:1;\"/>\n",
       "</radialGradient>\n",
       "<radialGradient cx=\"0\" cy=\"0\" fx=\"0\" fy=\"0\" gradientTransform=\"matrix(300,0,0,300,150,150)\" gradientUnits=\"userSpaceOnUse\" id=\"radial37\" r=\"1\">\n",
       "<stop offset=\"0\" style=\"stop-color:rgb(100%,100%,100%);stop-opacity:1;\"/>\n",
       "<stop offset=\"0.4\" style=\"stop-color:rgb(0%,100%,49.438202%);stop-opacity:1;\"/>\n",
       "</radialGradient>\n",
       "<radialGradient cx=\"0\" cy=\"0\" fx=\"0\" fy=\"0\" gradientTransform=\"matrix(300,0,0,300,150,150)\" gradientUnits=\"userSpaceOnUse\" id=\"radial38\" r=\"1\">\n",
       "<stop offset=\"0\" style=\"stop-color:rgb(100%,100%,100%);stop-opacity:1;\"/>\n",
       "<stop offset=\"0.4\" style=\"stop-color:rgb(0%,100%,56.179775%);stop-opacity:1;\"/>\n",
       "</radialGradient>\n",
       "<radialGradient cx=\"0\" cy=\"0\" fx=\"0\" fy=\"0\" gradientTransform=\"matrix(300,0,0,300,150,150)\" gradientUnits=\"userSpaceOnUse\" id=\"radial39\" r=\"1\">\n",
       "<stop offset=\"0\" style=\"stop-color:rgb(100%,100%,100%);stop-opacity:1;\"/>\n",
       "<stop offset=\"0.4\" style=\"stop-color:rgb(0%,100%,62.921348%);stop-opacity:1;\"/>\n",
       "</radialGradient>\n",
       "<radialGradient cx=\"0\" cy=\"0\" fx=\"0\" fy=\"0\" gradientTransform=\"matrix(300,0,0,300,150,150)\" gradientUnits=\"userSpaceOnUse\" id=\"radial40\" r=\"1\">\n",
       "<stop offset=\"0\" style=\"stop-color:rgb(100%,100%,100%);stop-opacity:1;\"/>\n",
       "<stop offset=\"0.4\" style=\"stop-color:rgb(0%,100%,69.662921%);stop-opacity:1;\"/>\n",
       "</radialGradient>\n",
       "<radialGradient cx=\"0\" cy=\"0\" fx=\"0\" fy=\"0\" gradientTransform=\"matrix(300,0,0,300,150,150)\" gradientUnits=\"userSpaceOnUse\" id=\"radial41\" r=\"1\">\n",
       "<stop offset=\"0\" style=\"stop-color:rgb(100%,100%,100%);stop-opacity:1;\"/>\n",
       "<stop offset=\"0.4\" style=\"stop-color:rgb(0%,100%,76.404494%);stop-opacity:1;\"/>\n",
       "</radialGradient>\n",
       "<radialGradient cx=\"0\" cy=\"0\" fx=\"0\" fy=\"0\" gradientTransform=\"matrix(300,0,0,300,150,150)\" gradientUnits=\"userSpaceOnUse\" id=\"radial42\" r=\"1\">\n",
       "<stop offset=\"0\" style=\"stop-color:rgb(100%,100%,100%);stop-opacity:1;\"/>\n",
       "<stop offset=\"0.4\" style=\"stop-color:rgb(0%,100%,83.146067%);stop-opacity:1;\"/>\n",
       "</radialGradient>\n",
       "<radialGradient cx=\"0\" cy=\"0\" fx=\"0\" fy=\"0\" gradientTransform=\"matrix(300,0,0,300,150,150)\" gradientUnits=\"userSpaceOnUse\" id=\"radial43\" r=\"1\">\n",
       "<stop offset=\"0\" style=\"stop-color:rgb(100%,100%,100%);stop-opacity:1;\"/>\n",
       "<stop offset=\"0.4\" style=\"stop-color:rgb(0%,100%,89.88764%);stop-opacity:1;\"/>\n",
       "</radialGradient>\n",
       "<radialGradient cx=\"0\" cy=\"0\" fx=\"0\" fy=\"0\" gradientTransform=\"matrix(300,0,0,300,150,150)\" gradientUnits=\"userSpaceOnUse\" id=\"radial44\" r=\"1\">\n",
       "<stop offset=\"0\" style=\"stop-color:rgb(100%,100%,100%);stop-opacity:1;\"/>\n",
       "<stop offset=\"0.4\" style=\"stop-color:rgb(0%,100%,96.629213%);stop-opacity:1;\"/>\n",
       "</radialGradient>\n",
       "<radialGradient cx=\"0\" cy=\"0\" fx=\"0\" fy=\"0\" gradientTransform=\"matrix(300,0,0,300,150,150)\" gradientUnits=\"userSpaceOnUse\" id=\"radial45\" r=\"1\">\n",
       "<stop offset=\"0\" style=\"stop-color:rgb(100%,100%,100%);stop-opacity:1;\"/>\n",
       "<stop offset=\"0.4\" style=\"stop-color:rgb(0%,96.629213%,100%);stop-opacity:1;\"/>\n",
       "</radialGradient>\n",
       "<radialGradient cx=\"0\" cy=\"0\" fx=\"0\" fy=\"0\" gradientTransform=\"matrix(300,0,0,300,150,150)\" gradientUnits=\"userSpaceOnUse\" id=\"radial46\" r=\"1\">\n",
       "<stop offset=\"0\" style=\"stop-color:rgb(100%,100%,100%);stop-opacity:1;\"/>\n",
       "<stop offset=\"0.4\" style=\"stop-color:rgb(0%,89.88764%,100%);stop-opacity:1;\"/>\n",
       "</radialGradient>\n",
       "<radialGradient cx=\"0\" cy=\"0\" fx=\"0\" fy=\"0\" gradientTransform=\"matrix(300,0,0,300,150,150)\" gradientUnits=\"userSpaceOnUse\" id=\"radial47\" r=\"1\">\n",
       "<stop offset=\"0\" style=\"stop-color:rgb(100%,100%,100%);stop-opacity:1;\"/>\n",
       "<stop offset=\"0.4\" style=\"stop-color:rgb(0%,83.146067%,100%);stop-opacity:1;\"/>\n",
       "</radialGradient>\n",
       "<radialGradient cx=\"0\" cy=\"0\" fx=\"0\" fy=\"0\" gradientTransform=\"matrix(300,0,0,300,150,150)\" gradientUnits=\"userSpaceOnUse\" id=\"radial48\" r=\"1\">\n",
       "<stop offset=\"0\" style=\"stop-color:rgb(100%,100%,100%);stop-opacity:1;\"/>\n",
       "<stop offset=\"0.4\" style=\"stop-color:rgb(0%,76.404494%,100%);stop-opacity:1;\"/>\n",
       "</radialGradient>\n",
       "<radialGradient cx=\"0\" cy=\"0\" fx=\"0\" fy=\"0\" gradientTransform=\"matrix(300,0,0,300,150,150)\" gradientUnits=\"userSpaceOnUse\" id=\"radial49\" r=\"1\">\n",
       "<stop offset=\"0\" style=\"stop-color:rgb(100%,100%,100%);stop-opacity:1;\"/>\n",
       "<stop offset=\"0.4\" style=\"stop-color:rgb(0%,69.662921%,100%);stop-opacity:1;\"/>\n",
       "</radialGradient>\n",
       "<radialGradient cx=\"0\" cy=\"0\" fx=\"0\" fy=\"0\" gradientTransform=\"matrix(300,0,0,300,150,150)\" gradientUnits=\"userSpaceOnUse\" id=\"radial50\" r=\"1\">\n",
       "<stop offset=\"0\" style=\"stop-color:rgb(100%,100%,100%);stop-opacity:1;\"/>\n",
       "<stop offset=\"0.4\" style=\"stop-color:rgb(0%,62.921348%,100%);stop-opacity:1;\"/>\n",
       "</radialGradient>\n",
       "<radialGradient cx=\"0\" cy=\"0\" fx=\"0\" fy=\"0\" gradientTransform=\"matrix(300,0,0,300,150,150)\" gradientUnits=\"userSpaceOnUse\" id=\"radial51\" r=\"1\">\n",
       "<stop offset=\"0\" style=\"stop-color:rgb(100%,100%,100%);stop-opacity:1;\"/>\n",
       "<stop offset=\"0.4\" style=\"stop-color:rgb(0%,56.179775%,100%);stop-opacity:1;\"/>\n",
       "</radialGradient>\n",
       "<radialGradient cx=\"0\" cy=\"0\" fx=\"0\" fy=\"0\" gradientTransform=\"matrix(300,0,0,300,150,150)\" gradientUnits=\"userSpaceOnUse\" id=\"radial52\" r=\"1\">\n",
       "<stop offset=\"0\" style=\"stop-color:rgb(100%,100%,100%);stop-opacity:1;\"/>\n",
       "<stop offset=\"0.4\" style=\"stop-color:rgb(0%,49.438202%,100%);stop-opacity:1;\"/>\n",
       "</radialGradient>\n",
       "<radialGradient cx=\"0\" cy=\"0\" fx=\"0\" fy=\"0\" gradientTransform=\"matrix(300,0,0,300,150,150)\" gradientUnits=\"userSpaceOnUse\" id=\"radial53\" r=\"1\">\n",
       "<stop offset=\"0\" style=\"stop-color:rgb(100%,100%,100%);stop-opacity:1;\"/>\n",
       "<stop offset=\"0.4\" style=\"stop-color:rgb(0%,42.696629%,100%);stop-opacity:1;\"/>\n",
       "</radialGradient>\n",
       "<radialGradient cx=\"0\" cy=\"0\" fx=\"0\" fy=\"0\" gradientTransform=\"matrix(300,0,0,300,150,150)\" gradientUnits=\"userSpaceOnUse\" id=\"radial54\" r=\"1\">\n",
       "<stop offset=\"0\" style=\"stop-color:rgb(100%,100%,100%);stop-opacity:1;\"/>\n",
       "<stop offset=\"0.4\" style=\"stop-color:rgb(0%,35.955056%,100%);stop-opacity:1;\"/>\n",
       "</radialGradient>\n",
       "<radialGradient cx=\"0\" cy=\"0\" fx=\"0\" fy=\"0\" gradientTransform=\"matrix(300,0,0,300,150,150)\" gradientUnits=\"userSpaceOnUse\" id=\"radial55\" r=\"1\">\n",
       "<stop offset=\"0\" style=\"stop-color:rgb(100%,100%,100%);stop-opacity:1;\"/>\n",
       "<stop offset=\"0.4\" style=\"stop-color:rgb(0%,29.213483%,100%);stop-opacity:1;\"/>\n",
       "</radialGradient>\n",
       "<radialGradient cx=\"0\" cy=\"0\" fx=\"0\" fy=\"0\" gradientTransform=\"matrix(300,0,0,300,150,150)\" gradientUnits=\"userSpaceOnUse\" id=\"radial56\" r=\"1\">\n",
       "<stop offset=\"0\" style=\"stop-color:rgb(100%,100%,100%);stop-opacity:1;\"/>\n",
       "<stop offset=\"0.4\" style=\"stop-color:rgb(0%,22.47191%,100%);stop-opacity:1;\"/>\n",
       "</radialGradient>\n",
       "<radialGradient cx=\"0\" cy=\"0\" fx=\"0\" fy=\"0\" gradientTransform=\"matrix(300,0,0,300,150,150)\" gradientUnits=\"userSpaceOnUse\" id=\"radial57\" r=\"1\">\n",
       "<stop offset=\"0\" style=\"stop-color:rgb(100%,100%,100%);stop-opacity:1;\"/>\n",
       "<stop offset=\"0.4\" style=\"stop-color:rgb(0%,15.730337%,100%);stop-opacity:1;\"/>\n",
       "</radialGradient>\n",
       "<radialGradient cx=\"0\" cy=\"0\" fx=\"0\" fy=\"0\" gradientTransform=\"matrix(300,0,0,300,150,150)\" gradientUnits=\"userSpaceOnUse\" id=\"radial58\" r=\"1\">\n",
       "<stop offset=\"0\" style=\"stop-color:rgb(100%,100%,100%);stop-opacity:1;\"/>\n",
       "<stop offset=\"0.4\" style=\"stop-color:rgb(0%,8.988764%,100%);stop-opacity:1;\"/>\n",
       "</radialGradient>\n",
       "<radialGradient cx=\"0\" cy=\"0\" fx=\"0\" fy=\"0\" gradientTransform=\"matrix(300,0,0,300,150,150)\" gradientUnits=\"userSpaceOnUse\" id=\"radial59\" r=\"1\">\n",
       "<stop offset=\"0\" style=\"stop-color:rgb(100%,100%,100%);stop-opacity:1;\"/>\n",
       "<stop offset=\"0.4\" style=\"stop-color:rgb(0%,2.247191%,100%);stop-opacity:1;\"/>\n",
       "</radialGradient>\n",
       "<radialGradient cx=\"0\" cy=\"0\" fx=\"0\" fy=\"0\" gradientTransform=\"matrix(300,0,0,300,150,150)\" gradientUnits=\"userSpaceOnUse\" id=\"radial60\" r=\"1\">\n",
       "<stop offset=\"0\" style=\"stop-color:rgb(100%,100%,100%);stop-opacity:1;\"/>\n",
       "<stop offset=\"0.4\" style=\"stop-color:rgb(4.494382%,0%,100%);stop-opacity:1;\"/>\n",
       "</radialGradient>\n",
       "<radialGradient cx=\"0\" cy=\"0\" fx=\"0\" fy=\"0\" gradientTransform=\"matrix(300,0,0,300,150,150)\" gradientUnits=\"userSpaceOnUse\" id=\"radial61\" r=\"1\">\n",
       "<stop offset=\"0\" style=\"stop-color:rgb(100%,100%,100%);stop-opacity:1;\"/>\n",
       "<stop offset=\"0.4\" style=\"stop-color:rgb(11.235955%,0%,100%);stop-opacity:1;\"/>\n",
       "</radialGradient>\n",
       "<radialGradient cx=\"0\" cy=\"0\" fx=\"0\" fy=\"0\" gradientTransform=\"matrix(300,0,0,300,150,150)\" gradientUnits=\"userSpaceOnUse\" id=\"radial62\" r=\"1\">\n",
       "<stop offset=\"0\" style=\"stop-color:rgb(100%,100%,100%);stop-opacity:1;\"/>\n",
       "<stop offset=\"0.4\" style=\"stop-color:rgb(17.977528%,0%,100%);stop-opacity:1;\"/>\n",
       "</radialGradient>\n",
       "<radialGradient cx=\"0\" cy=\"0\" fx=\"0\" fy=\"0\" gradientTransform=\"matrix(300,0,0,300,150,150)\" gradientUnits=\"userSpaceOnUse\" id=\"radial63\" r=\"1\">\n",
       "<stop offset=\"0\" style=\"stop-color:rgb(100%,100%,100%);stop-opacity:1;\"/>\n",
       "<stop offset=\"0.4\" style=\"stop-color:rgb(24.719101%,0%,100%);stop-opacity:1;\"/>\n",
       "</radialGradient>\n",
       "<radialGradient cx=\"0\" cy=\"0\" fx=\"0\" fy=\"0\" gradientTransform=\"matrix(300,0,0,300,150,150)\" gradientUnits=\"userSpaceOnUse\" id=\"radial64\" r=\"1\">\n",
       "<stop offset=\"0\" style=\"stop-color:rgb(100%,100%,100%);stop-opacity:1;\"/>\n",
       "<stop offset=\"0.4\" style=\"stop-color:rgb(31.460674%,0%,100%);stop-opacity:1;\"/>\n",
       "</radialGradient>\n",
       "<radialGradient cx=\"0\" cy=\"0\" fx=\"0\" fy=\"0\" gradientTransform=\"matrix(300,0,0,300,150,150)\" gradientUnits=\"userSpaceOnUse\" id=\"radial65\" r=\"1\">\n",
       "<stop offset=\"0\" style=\"stop-color:rgb(100%,100%,100%);stop-opacity:1;\"/>\n",
       "<stop offset=\"0.4\" style=\"stop-color:rgb(38.202247%,0%,100%);stop-opacity:1;\"/>\n",
       "</radialGradient>\n",
       "<radialGradient cx=\"0\" cy=\"0\" fx=\"0\" fy=\"0\" gradientTransform=\"matrix(300,0,0,300,150,150)\" gradientUnits=\"userSpaceOnUse\" id=\"radial66\" r=\"1\">\n",
       "<stop offset=\"0\" style=\"stop-color:rgb(100%,100%,100%);stop-opacity:1;\"/>\n",
       "<stop offset=\"0.4\" style=\"stop-color:rgb(44.94382%,0%,100%);stop-opacity:1;\"/>\n",
       "</radialGradient>\n",
       "<radialGradient cx=\"0\" cy=\"0\" fx=\"0\" fy=\"0\" gradientTransform=\"matrix(300,0,0,300,150,150)\" gradientUnits=\"userSpaceOnUse\" id=\"radial67\" r=\"1\">\n",
       "<stop offset=\"0\" style=\"stop-color:rgb(100%,100%,100%);stop-opacity:1;\"/>\n",
       "<stop offset=\"0.4\" style=\"stop-color:rgb(51.685393%,0%,100%);stop-opacity:1;\"/>\n",
       "</radialGradient>\n",
       "<radialGradient cx=\"0\" cy=\"0\" fx=\"0\" fy=\"0\" gradientTransform=\"matrix(300,0,0,300,150,150)\" gradientUnits=\"userSpaceOnUse\" id=\"radial68\" r=\"1\">\n",
       "<stop offset=\"0\" style=\"stop-color:rgb(100%,100%,100%);stop-opacity:1;\"/>\n",
       "<stop offset=\"0.4\" style=\"stop-color:rgb(58.426966%,0%,100%);stop-opacity:1;\"/>\n",
       "</radialGradient>\n",
       "<radialGradient cx=\"0\" cy=\"0\" fx=\"0\" fy=\"0\" gradientTransform=\"matrix(300,0,0,300,150,150)\" gradientUnits=\"userSpaceOnUse\" id=\"radial69\" r=\"1\">\n",
       "<stop offset=\"0\" style=\"stop-color:rgb(100%,100%,100%);stop-opacity:1;\"/>\n",
       "<stop offset=\"0.4\" style=\"stop-color:rgb(65.168539%,0%,100%);stop-opacity:1;\"/>\n",
       "</radialGradient>\n",
       "<radialGradient cx=\"0\" cy=\"0\" fx=\"0\" fy=\"0\" gradientTransform=\"matrix(300,0,0,300,150,150)\" gradientUnits=\"userSpaceOnUse\" id=\"radial70\" r=\"1\">\n",
       "<stop offset=\"0\" style=\"stop-color:rgb(100%,100%,100%);stop-opacity:1;\"/>\n",
       "<stop offset=\"0.4\" style=\"stop-color:rgb(71.910112%,0%,100%);stop-opacity:1;\"/>\n",
       "</radialGradient>\n",
       "<radialGradient cx=\"0\" cy=\"0\" fx=\"0\" fy=\"0\" gradientTransform=\"matrix(300,0,0,300,150,150)\" gradientUnits=\"userSpaceOnUse\" id=\"radial71\" r=\"1\">\n",
       "<stop offset=\"0\" style=\"stop-color:rgb(100%,100%,100%);stop-opacity:1;\"/>\n",
       "<stop offset=\"0.4\" style=\"stop-color:rgb(78.651685%,0%,100%);stop-opacity:1;\"/>\n",
       "</radialGradient>\n",
       "<radialGradient cx=\"0\" cy=\"0\" fx=\"0\" fy=\"0\" gradientTransform=\"matrix(300,0,0,300,150,150)\" gradientUnits=\"userSpaceOnUse\" id=\"radial72\" r=\"1\">\n",
       "<stop offset=\"0\" style=\"stop-color:rgb(100%,100%,100%);stop-opacity:1;\"/>\n",
       "<stop offset=\"0.4\" style=\"stop-color:rgb(85.393258%,0%,100%);stop-opacity:1;\"/>\n",
       "</radialGradient>\n",
       "<radialGradient cx=\"0\" cy=\"0\" fx=\"0\" fy=\"0\" gradientTransform=\"matrix(300,0,0,300,150,150)\" gradientUnits=\"userSpaceOnUse\" id=\"radial73\" r=\"1\">\n",
       "<stop offset=\"0\" style=\"stop-color:rgb(100%,100%,100%);stop-opacity:1;\"/>\n",
       "<stop offset=\"0.4\" style=\"stop-color:rgb(92.134831%,0%,100%);stop-opacity:1;\"/>\n",
       "</radialGradient>\n",
       "<radialGradient cx=\"0\" cy=\"0\" fx=\"0\" fy=\"0\" gradientTransform=\"matrix(300,0,0,300,150,150)\" gradientUnits=\"userSpaceOnUse\" id=\"radial74\" r=\"1\">\n",
       "<stop offset=\"0\" style=\"stop-color:rgb(100%,100%,100%);stop-opacity:1;\"/>\n",
       "<stop offset=\"0.4\" style=\"stop-color:rgb(98.876404%,0%,100%);stop-opacity:1;\"/>\n",
       "</radialGradient>\n",
       "<radialGradient cx=\"0\" cy=\"0\" fx=\"0\" fy=\"0\" gradientTransform=\"matrix(300,0,0,300,150,150)\" gradientUnits=\"userSpaceOnUse\" id=\"radial75\" r=\"1\">\n",
       "<stop offset=\"0\" style=\"stop-color:rgb(100%,100%,100%);stop-opacity:1;\"/>\n",
       "<stop offset=\"0.4\" style=\"stop-color:rgb(100%,0%,94.382022%);stop-opacity:1;\"/>\n",
       "</radialGradient>\n",
       "<radialGradient cx=\"0\" cy=\"0\" fx=\"0\" fy=\"0\" gradientTransform=\"matrix(300,0,0,300,150,150)\" gradientUnits=\"userSpaceOnUse\" id=\"radial76\" r=\"1\">\n",
       "<stop offset=\"0\" style=\"stop-color:rgb(100%,100%,100%);stop-opacity:1;\"/>\n",
       "<stop offset=\"0.4\" style=\"stop-color:rgb(100%,0%,87.640449%);stop-opacity:1;\"/>\n",
       "</radialGradient>\n",
       "<radialGradient cx=\"0\" cy=\"0\" fx=\"0\" fy=\"0\" gradientTransform=\"matrix(300,0,0,300,150,150)\" gradientUnits=\"userSpaceOnUse\" id=\"radial77\" r=\"1\">\n",
       "<stop offset=\"0\" style=\"stop-color:rgb(100%,100%,100%);stop-opacity:1;\"/>\n",
       "<stop offset=\"0.4\" style=\"stop-color:rgb(100%,0%,80.898876%);stop-opacity:1;\"/>\n",
       "</radialGradient>\n",
       "<radialGradient cx=\"0\" cy=\"0\" fx=\"0\" fy=\"0\" gradientTransform=\"matrix(300,0,0,300,150,150)\" gradientUnits=\"userSpaceOnUse\" id=\"radial78\" r=\"1\">\n",
       "<stop offset=\"0\" style=\"stop-color:rgb(100%,100%,100%);stop-opacity:1;\"/>\n",
       "<stop offset=\"0.4\" style=\"stop-color:rgb(100%,0%,74.157303%);stop-opacity:1;\"/>\n",
       "</radialGradient>\n",
       "<radialGradient cx=\"0\" cy=\"0\" fx=\"0\" fy=\"0\" gradientTransform=\"matrix(300,0,0,300,150,150)\" gradientUnits=\"userSpaceOnUse\" id=\"radial79\" r=\"1\">\n",
       "<stop offset=\"0\" style=\"stop-color:rgb(100%,100%,100%);stop-opacity:1;\"/>\n",
       "<stop offset=\"0.4\" style=\"stop-color:rgb(100%,0%,67.41573%);stop-opacity:1;\"/>\n",
       "</radialGradient>\n",
       "<radialGradient cx=\"0\" cy=\"0\" fx=\"0\" fy=\"0\" gradientTransform=\"matrix(300,0,0,300,150,150)\" gradientUnits=\"userSpaceOnUse\" id=\"radial80\" r=\"1\">\n",
       "<stop offset=\"0\" style=\"stop-color:rgb(100%,100%,100%);stop-opacity:1;\"/>\n",
       "<stop offset=\"0.4\" style=\"stop-color:rgb(100%,0%,60.674157%);stop-opacity:1;\"/>\n",
       "</radialGradient>\n",
       "<radialGradient cx=\"0\" cy=\"0\" fx=\"0\" fy=\"0\" gradientTransform=\"matrix(300,0,0,300,150,150)\" gradientUnits=\"userSpaceOnUse\" id=\"radial81\" r=\"1\">\n",
       "<stop offset=\"0\" style=\"stop-color:rgb(100%,100%,100%);stop-opacity:1;\"/>\n",
       "<stop offset=\"0.4\" style=\"stop-color:rgb(100%,0%,53.932584%);stop-opacity:1;\"/>\n",
       "</radialGradient>\n",
       "<radialGradient cx=\"0\" cy=\"0\" fx=\"0\" fy=\"0\" gradientTransform=\"matrix(300,0,0,300,150,150)\" gradientUnits=\"userSpaceOnUse\" id=\"radial82\" r=\"1\">\n",
       "<stop offset=\"0\" style=\"stop-color:rgb(100%,100%,100%);stop-opacity:1;\"/>\n",
       "<stop offset=\"0.4\" style=\"stop-color:rgb(100%,0%,47.191011%);stop-opacity:1;\"/>\n",
       "</radialGradient>\n",
       "<radialGradient cx=\"0\" cy=\"0\" fx=\"0\" fy=\"0\" gradientTransform=\"matrix(300,0,0,300,150,150)\" gradientUnits=\"userSpaceOnUse\" id=\"radial83\" r=\"1\">\n",
       "<stop offset=\"0\" style=\"stop-color:rgb(100%,100%,100%);stop-opacity:1;\"/>\n",
       "<stop offset=\"0.4\" style=\"stop-color:rgb(100%,0%,40.449438%);stop-opacity:1;\"/>\n",
       "</radialGradient>\n",
       "<radialGradient cx=\"0\" cy=\"0\" fx=\"0\" fy=\"0\" gradientTransform=\"matrix(300,0,0,300,150,150)\" gradientUnits=\"userSpaceOnUse\" id=\"radial84\" r=\"1\">\n",
       "<stop offset=\"0\" style=\"stop-color:rgb(100%,100%,100%);stop-opacity:1;\"/>\n",
       "<stop offset=\"0.4\" style=\"stop-color:rgb(100%,0%,33.707865%);stop-opacity:1;\"/>\n",
       "</radialGradient>\n",
       "<radialGradient cx=\"0\" cy=\"0\" fx=\"0\" fy=\"0\" gradientTransform=\"matrix(300,0,0,300,150,150)\" gradientUnits=\"userSpaceOnUse\" id=\"radial85\" r=\"1\">\n",
       "<stop offset=\"0\" style=\"stop-color:rgb(100%,100%,100%);stop-opacity:1;\"/>\n",
       "<stop offset=\"0.4\" style=\"stop-color:rgb(100%,0%,26.966292%);stop-opacity:1;\"/>\n",
       "</radialGradient>\n",
       "<radialGradient cx=\"0\" cy=\"0\" fx=\"0\" fy=\"0\" gradientTransform=\"matrix(300,0,0,300,150,150)\" gradientUnits=\"userSpaceOnUse\" id=\"radial86\" r=\"1\">\n",
       "<stop offset=\"0\" style=\"stop-color:rgb(100%,100%,100%);stop-opacity:1;\"/>\n",
       "<stop offset=\"0.4\" style=\"stop-color:rgb(100%,0%,20.224719%);stop-opacity:1;\"/>\n",
       "</radialGradient>\n",
       "<radialGradient cx=\"0\" cy=\"0\" fx=\"0\" fy=\"0\" gradientTransform=\"matrix(300,0,0,300,150,150)\" gradientUnits=\"userSpaceOnUse\" id=\"radial87\" r=\"1\">\n",
       "<stop offset=\"0\" style=\"stop-color:rgb(100%,100%,100%);stop-opacity:1;\"/>\n",
       "<stop offset=\"0.4\" style=\"stop-color:rgb(100%,0%,13.483146%);stop-opacity:1;\"/>\n",
       "</radialGradient>\n",
       "<radialGradient cx=\"0\" cy=\"0\" fx=\"0\" fy=\"0\" gradientTransform=\"matrix(300,0,0,300,150,150)\" gradientUnits=\"userSpaceOnUse\" id=\"radial88\" r=\"1\">\n",
       "<stop offset=\"0\" style=\"stop-color:rgb(100%,100%,100%);stop-opacity:1;\"/>\n",
       "<stop offset=\"0.4\" style=\"stop-color:rgb(100%,0%,6.741573%);stop-opacity:1;\"/>\n",
       "</radialGradient>\n",
       "</defs>\n",
       "<g id=\"surface334\">\n",
       "<path d=\"M 150 150 L 270 150 C 270 152.863281 269.898438 155.726562 269.691406 158.585938 L 150 150 \" style=\" stroke:none;fill-rule:nonzero;fill:url(#radial0);\"/>\n",
       "<path d=\"M 150 150 L 269.699219 158.464844 C 269.5 161.320312 269.195312 164.171875 268.789062 167.007812 L 150 150 \" style=\" stroke:none;fill-rule:nonzero;fill:url(#radial1);\"/>\n",
       "<path d=\"M 150 150 L 268.804688 166.886719 C 268.402344 169.722656 267.898438 172.542969 267.292969 175.34375 L 150 150 \" style=\" stroke:none;fill-rule:nonzero;fill:url(#radial2);\"/>\n",
       "<path d=\"M 150 150 L 267.320312 175.226562 C 266.714844 178.027344 266.015625 180.804688 265.214844 183.554688 L 150 150 \" style=\" stroke:none;fill-rule:nonzero;fill:url(#radial3);\"/>\n",
       "<path d=\"M 150 150 L 265.246094 183.4375 C 264.449219 186.1875 263.550781 188.910156 262.558594 191.597656 L 150 150 \" style=\" stroke:none;fill-rule:nonzero;fill:url(#radial4);\"/>\n",
       "<path d=\"M 150 150 L 262.601562 191.484375 C 261.609375 194.171875 260.523438 196.824219 259.34375 199.433594 L 150 150 \" style=\" stroke:none;fill-rule:nonzero;fill:url(#radial5);\"/>\n",
       "<path d=\"M 150 150 L 259.394531 199.324219 C 258.21875 201.933594 256.945312 204.503906 255.585938 207.023438 L 150 150 \" style=\" stroke:none;fill-rule:nonzero;fill:url(#radial6);\"/>\n",
       "<path d=\"M 150 150 L 255.644531 206.917969 C 254.285156 209.4375 252.835938 211.910156 251.300781 214.328125 L 150 150 \" style=\" stroke:none;fill-rule:nonzero;fill:url(#radial7);\"/>\n",
       "<path d=\"M 150 150 L 251.363281 214.226562 C 249.832031 216.648438 248.210938 219.011719 246.511719 221.3125 L 150 150 \" style=\" stroke:none;fill-rule:nonzero;fill:url(#radial8);\"/>\n",
       "<path d=\"M 150 150 L 246.582031 221.21875 C 244.882812 223.523438 243.101562 225.765625 241.238281 227.945312 L 150 150 \" style=\" stroke:none;fill-rule:nonzero;fill:url(#radial9);\"/>\n",
       "<path d=\"M 150 150 L 241.316406 227.851562 C 239.460938 230.03125 237.523438 232.144531 235.515625 234.1875 L 150 150 \" style=\" stroke:none;fill-rule:nonzero;fill:url(#radial10);\"/>\n",
       "<path d=\"M 150 150 L 235.597656 234.101562 C 233.589844 236.144531 231.511719 238.113281 229.363281 240.007812 L 150 150 \" style=\" stroke:none;fill-rule:nonzero;fill:url(#radial11);\"/>\n",
       "<path d=\"M 150 150 L 229.453125 239.929688 C 227.304688 241.824219 225.09375 243.644531 222.816406 245.382812 L 150 150 \" style=\" stroke:none;fill-rule:nonzero;fill:url(#radial12);\"/>\n",
       "<path d=\"M 150 150 L 222.910156 245.308594 C 220.636719 247.050781 218.300781 248.707031 215.90625 250.28125 L 150 150 \" style=\" stroke:none;fill-rule:nonzero;fill:url(#radial13);\"/>\n",
       "<path d=\"M 150 150 L 216.007812 250.214844 C 213.613281 251.789062 211.167969 253.28125 208.667969 254.679688 L 150 150 \" style=\" stroke:none;fill-rule:nonzero;fill:url(#radial14);\"/>\n",
       "<path d=\"M 150 150 L 208.773438 254.621094 C 206.277344 256.023438 203.730469 257.335938 201.136719 258.558594 L 150 150 \" style=\" stroke:none;fill-rule:nonzero;fill:url(#radial15);\"/>\n",
       "<path d=\"M 150 150 L 201.246094 258.507812 C 198.65625 259.730469 196.023438 260.859375 193.351562 261.894531 L 150 150 \" style=\" stroke:none;fill-rule:nonzero;fill:url(#radial16);\"/>\n",
       "<path d=\"M 150 150 L 193.464844 261.851562 C 190.796875 262.890625 188.089844 263.832031 185.351562 264.675781 L 150 150 \" style=\" stroke:none;fill-rule:nonzero;fill:url(#radial17);\"/>\n",
       "<path d=\"M 150 150 L 185.46875 264.640625 C 182.730469 265.484375 179.964844 266.234375 177.175781 266.882812 L 150 150 \" style=\" stroke:none;fill-rule:nonzero;fill:url(#radial18);\"/>\n",
       "<path d=\"M 150 150 L 177.292969 266.855469 C 174.503906 267.507812 171.691406 268.058594 168.863281 268.507812 L 150 150 \" style=\" stroke:none;fill-rule:nonzero;fill:url(#radial19);\"/>\n",
       "<path d=\"M 150 150 L 168.980469 268.488281 C 166.152344 268.941406 163.308594 269.292969 160.457031 269.542969 L 150 150 \" style=\" stroke:none;fill-rule:nonzero;fill:url(#radial20);\"/>\n",
       "<path d=\"M 150 150 L 160.574219 269.53125 C 157.722656 269.785156 154.863281 269.9375 151.996094 269.984375 L 150 150 \" style=\" stroke:none;fill-rule:nonzero;fill:url(#radial21);\"/>\n",
       "<path d=\"M 150 150 L 152.117188 269.980469 C 149.253906 270.03125 146.390625 269.980469 143.53125 269.824219 L 150 150 \" style=\" stroke:none;fill-rule:nonzero;fill:url(#radial22);\"/>\n",
       "<path d=\"M 150 150 L 143.648438 269.832031 C 140.789062 269.679688 137.933594 269.425781 135.09375 269.070312 L 150 150 \" style=\" stroke:none;fill-rule:nonzero;fill:url(#radial23);\"/>\n",
       "<path d=\"M 150 150 L 135.210938 269.085938 C 132.371094 268.730469 129.539062 268.277344 126.730469 267.722656 L 150 150 \" style=\" stroke:none;fill-rule:nonzero;fill:url(#radial24);\"/>\n",
       "<path d=\"M 150 150 L 126.847656 267.746094 C 124.039062 267.191406 121.25 266.539062 118.484375 265.789062 L 150 150 \" style=\" stroke:none;fill-rule:nonzero;fill:url(#radial25);\"/>\n",
       "<path d=\"M 150 150 L 118.601562 265.820312 C 115.835938 265.070312 113.101562 264.222656 110.394531 263.277344 L 150 150 \" style=\" stroke:none;fill-rule:nonzero;fill:url(#radial26);\"/>\n",
       "<path d=\"M 150 150 L 110.507812 263.316406 C 107.804688 262.375 105.132812 261.335938 102.503906 260.199219 L 150 150 \" style=\" stroke:none;fill-rule:nonzero;fill:url(#radial27);\"/>\n",
       "<path d=\"M 150 150 L 102.613281 260.246094 C 99.984375 259.117188 97.394531 257.890625 94.847656 256.574219 L 150 150 \" style=\" stroke:none;fill-rule:nonzero;fill:url(#radial28);\"/>\n",
       "<path d=\"M 150 150 L 94.957031 256.628906 C 92.410156 255.316406 89.914062 253.914062 87.46875 252.421875 L 150 150 \" style=\" stroke:none;fill-rule:nonzero;fill:url(#radial29);\"/>\n",
       "<path d=\"M 150 150 L 87.570312 252.484375 C 85.125 250.992188 82.734375 249.414062 80.398438 247.753906 L 150 150 \" style=\" stroke:none;fill-rule:nonzero;fill:url(#radial30);\"/>\n",
       "<path d=\"M 150 150 L 80.496094 247.824219 C 78.164062 246.164062 75.886719 244.421875 73.679688 242.601562 L 150 150 \" style=\" stroke:none;fill-rule:nonzero;fill:url(#radial31);\"/>\n",
       "<path d=\"M 150 150 L 73.769531 242.675781 C 71.558594 240.859375 69.414062 238.960938 67.335938 236.988281 L 150 150 \" style=\" stroke:none;fill-rule:nonzero;fill:url(#radial32);\"/>\n",
       "<path d=\"M 150 150 L 67.421875 237.070312 C 65.34375 235.097656 63.335938 233.054688 61.40625 230.9375 L 150 150 \" style=\" stroke:none;fill-rule:nonzero;fill:url(#radial33);\"/>\n",
       "<path d=\"M 150 150 L 61.488281 231.027344 C 59.554688 228.914062 57.695312 226.734375 55.917969 224.488281 L 150 150 \" style=\" stroke:none;fill-rule:nonzero;fill:url(#radial34);\"/>\n",
       "<path d=\"M 150 150 L 55.992188 224.582031 C 54.210938 222.339844 52.511719 220.03125 50.898438 217.664062 L 150 150 \" style=\" stroke:none;fill-rule:nonzero;fill:url(#radial35);\"/>\n",
       "<path d=\"M 150 150 L 50.964844 217.765625 C 49.347656 215.402344 47.816406 212.980469 46.371094 210.507812 L 150 150 \" style=\" stroke:none;fill-rule:nonzero;fill:url(#radial36);\"/>\n",
       "<path d=\"M 150 150 L 46.433594 210.609375 C 44.984375 208.136719 43.628906 205.617188 42.359375 203.046875 L 150 150 \" style=\" stroke:none;fill-rule:nonzero;fill:url(#radial37);\"/>\n",
       "<path d=\"M 150 150 L 42.414062 203.152344 C 41.144531 200.585938 39.96875 197.972656 38.886719 195.320312 L 150 150 \" style=\" stroke:none;fill-rule:nonzero;fill:url(#radial38);\"/>\n",
       "<path d=\"M 150 150 L 38.933594 195.433594 C 37.847656 192.78125 36.859375 190.09375 35.96875 187.371094 L 150 150 \" style=\" stroke:none;fill-rule:nonzero;fill:url(#radial39);\"/>\n",
       "<path d=\"M 150 150 L 36.003906 187.484375 C 35.109375 184.765625 34.3125 182.011719 33.617188 179.234375 L 150 150 \" style=\" stroke:none;fill-rule:nonzero;fill:url(#radial40);\"/>\n",
       "<path d=\"M 150 150 L 33.644531 179.351562 C 32.945312 176.574219 32.34375 173.773438 31.84375 170.953125 L 150 150 \" style=\" stroke:none;fill-rule:nonzero;fill:url(#radial41);\"/>\n",
       "<path d=\"M 150 150 L 31.863281 171.070312 C 31.359375 168.25 30.960938 165.414062 30.660156 162.566406 L 150 150 \" style=\" stroke:none;fill-rule:nonzero;fill:url(#radial42);\"/>\n",
       "<path d=\"M 150 150 L 30.671875 162.683594 C 30.371094 159.835938 30.167969 156.976562 30.070312 154.113281 L 150 150 \" style=\" stroke:none;fill-rule:nonzero;fill:url(#radial43);\"/>\n",
       "<path d=\"M 150 150 L 30.074219 154.234375 C 29.972656 151.371094 29.976562 148.507812 30.078125 145.644531 L 150 150 \" style=\" stroke:none;fill-rule:nonzero;fill:url(#radial44);\"/>\n",
       "<path d=\"M 150 150 L 30.074219 145.765625 C 30.175781 142.902344 30.378906 140.042969 30.683594 137.195312 L 150 150 \" style=\" stroke:none;fill-rule:nonzero;fill:url(#radial45);\"/>\n",
       "<path d=\"M 150 150 L 30.671875 137.316406 C 30.976562 134.46875 31.378906 131.632812 31.886719 128.8125 L 150 150 \" style=\" stroke:none;fill-rule:nonzero;fill:url(#radial46);\"/>\n",
       "<path d=\"M 150 150 L 31.863281 128.929688 C 32.367188 126.109375 32.972656 123.308594 33.675781 120.535156 L 150 150 \" style=\" stroke:none;fill-rule:nonzero;fill:url(#radial47);\"/>\n",
       "<path d=\"M 150 150 L 33.644531 120.648438 C 34.34375 117.871094 35.144531 115.121094 36.042969 112.402344 L 150 150 \" style=\" stroke:none;fill-rule:nonzero;fill:url(#radial48);\"/>\n",
       "<path d=\"M 150 150 L 36.003906 112.515625 C 36.898438 109.792969 37.890625 107.105469 38.976562 104.457031 L 150 150 \" style=\" stroke:none;fill-rule:nonzero;fill:url(#radial49);\"/>\n",
       "<path d=\"M 150 150 L 38.933594 104.566406 C 40.015625 101.917969 41.195312 99.304688 42.46875 96.738281 L 150 150 \" style=\" stroke:none;fill-rule:nonzero;fill:url(#radial50);\"/>\n",
       "<path d=\"M 150 150 L 42.414062 96.847656 C 43.683594 94.277344 45.042969 91.757812 46.492188 89.285156 L 150 150 \" style=\" stroke:none;fill-rule:nonzero;fill:url(#radial51);\"/>\n",
       "<path d=\"M 150 150 L 46.433594 89.390625 C 47.878906 86.917969 49.414062 84.5 51.03125 82.136719 L 150 150 \" style=\" stroke:none;fill-rule:nonzero;fill:url(#radial52);\"/>\n",
       "<path d=\"M 150 150 L 50.964844 82.234375 C 52.582031 79.871094 54.285156 77.566406 56.066406 75.324219 L 150 150 \" style=\" stroke:none;fill-rule:nonzero;fill:url(#radial53);\"/>\n",
       "<path d=\"M 150 150 L 55.992188 75.417969 C 57.773438 73.175781 59.632812 70.996094 61.566406 68.882812 L 150 150 \" style=\" stroke:none;fill-rule:nonzero;fill:url(#radial54);\"/>\n",
       "<path d=\"M 150 150 L 61.488281 68.972656 C 63.421875 66.859375 65.429688 64.816406 67.511719 62.847656 L 150 150 \" style=\" stroke:none;fill-rule:nonzero;fill:url(#radial55);\"/>\n",
       "<path d=\"M 150 150 L 67.421875 62.929688 C 69.5 60.960938 71.648438 59.0625 73.863281 57.246094 L 150 150 \" style=\" stroke:none;fill-rule:nonzero;fill:url(#radial56);\"/>\n",
       "<path d=\"M 150 150 L 73.769531 57.324219 C 75.984375 55.503906 78.257812 53.761719 80.59375 52.105469 L 150 150 \" style=\" stroke:none;fill-rule:nonzero;fill:url(#radial57);\"/>\n",
       "<path d=\"M 150 150 L 80.496094 52.175781 C 82.832031 50.519531 85.226562 48.941406 87.671875 47.457031 L 150 150 \" style=\" stroke:none;fill-rule:nonzero;fill:url(#radial58);\"/>\n",
       "<path d=\"M 150 150 L 87.570312 47.515625 C 90.015625 46.027344 92.515625 44.625 95.0625 43.3125 L 150 150 \" style=\" stroke:none;fill-rule:nonzero;fill:url(#radial59);\"/>\n",
       "<path d=\"M 150 150 L 94.957031 43.371094 C 97.5 42.054688 100.09375 40.832031 102.726562 39.703125 L 150 150 \" style=\" stroke:none;fill-rule:nonzero;fill:url(#radial60);\"/>\n",
       "<path d=\"M 150 150 L 102.613281 39.753906 C 105.246094 38.621094 107.917969 37.585938 110.621094 36.644531 L 150 150 \" style=\" stroke:none;fill-rule:nonzero;fill:url(#radial61);\"/>\n",
       "<path d=\"M 150 150 L 110.507812 36.683594 C 113.214844 35.742188 115.953125 34.894531 118.714844 34.148438 L 150 150 \" style=\" stroke:none;fill-rule:nonzero;fill:url(#radial62);\"/>\n",
       "<path d=\"M 150 150 L 118.601562 34.179688 C 121.367188 33.429688 124.15625 32.78125 126.964844 32.230469 L 150 150 \" style=\" stroke:none;fill-rule:nonzero;fill:url(#radial63);\"/>\n",
       "<path d=\"M 150 150 L 126.847656 32.253906 C 129.660156 31.703125 132.488281 31.25 135.332031 30.898438 L 150 150 \" style=\" stroke:none;fill-rule:nonzero;fill:url(#radial64);\"/>\n",
       "<path d=\"M 150 150 L 135.210938 30.914062 C 138.054688 30.5625 140.910156 30.3125 143.769531 30.160156 L 150 150 \" style=\" stroke:none;fill-rule:nonzero;fill:url(#radial65);\"/>\n",
       "<path d=\"M 150 150 L 143.648438 30.167969 C 146.507812 30.015625 149.375 29.96875 152.238281 30.019531 L 150 150 \" style=\" stroke:none;fill-rule:nonzero;fill:url(#radial66);\"/>\n",
       "<path d=\"M 150 150 L 152.117188 30.019531 C 154.980469 30.070312 157.84375 30.222656 160.695312 30.476562 L 150 150 \" style=\" stroke:none;fill-rule:nonzero;fill:url(#radial67);\"/>\n",
       "<path d=\"M 150 150 L 160.574219 30.46875 C 163.429688 30.71875 166.273438 31.074219 169.101562 31.53125 L 150 150 \" style=\" stroke:none;fill-rule:nonzero;fill:url(#radial68);\"/>\n",
       "<path d=\"M 150 150 L 168.980469 31.511719 C 171.808594 31.964844 174.621094 32.519531 177.410156 33.171875 L 150 150 \" style=\" stroke:none;fill-rule:nonzero;fill:url(#radial69);\"/>\n",
       "<path d=\"M 150 150 L 177.292969 33.144531 C 180.082031 33.796875 182.847656 34.546875 185.582031 35.398438 L 150 150 \" style=\" stroke:none;fill-rule:nonzero;fill:url(#radial70);\"/>\n",
       "<path d=\"M 150 150 L 185.46875 35.359375 C 188.203125 36.207031 190.910156 37.152344 193.578125 38.191406 L 150 150 \" style=\" stroke:none;fill-rule:nonzero;fill:url(#radial71);\"/>\n",
       "<path d=\"M 150 150 L 193.464844 38.148438 C 196.136719 39.1875 198.765625 40.320312 201.355469 41.542969 L 150 150 \" style=\" stroke:none;fill-rule:nonzero;fill:url(#radial72);\"/>\n",
       "<path d=\"M 150 150 L 201.246094 41.492188 C 203.835938 42.714844 206.382812 44.03125 208.878906 45.4375 L 150 150 \" style=\" stroke:none;fill-rule:nonzero;fill:url(#radial73);\"/>\n",
       "<path d=\"M 150 150 L 208.773438 45.378906 C 211.269531 46.78125 213.714844 48.273438 216.105469 49.851562 L 150 150 \" style=\" stroke:none;fill-rule:nonzero;fill:url(#radial74);\"/>\n",
       "<path d=\"M 150 150 L 216.007812 49.785156 C 218.398438 51.359375 220.734375 53.019531 223.007812 54.761719 L 150 150 \" style=\" stroke:none;fill-rule:nonzero;fill:url(#radial75);\"/>\n",
       "<path d=\"M 150 150 L 222.910156 54.691406 C 225.1875 56.429688 227.398438 58.25 229.542969 60.148438 L 150 150 \" style=\" stroke:none;fill-rule:nonzero;fill:url(#radial76);\"/>\n",
       "<path d=\"M 150 150 L 229.453125 60.070312 C 231.597656 61.96875 233.675781 63.941406 235.683594 65.984375 L 150 150 \" style=\" stroke:none;fill-rule:nonzero;fill:url(#radial77);\"/>\n",
       "<path d=\"M 150 150 L 235.597656 65.898438 C 237.605469 67.941406 239.539062 70.058594 241.394531 72.238281 L 150 150 \" style=\" stroke:none;fill-rule:nonzero;fill:url(#radial78);\"/>\n",
       "<path d=\"M 150 150 L 241.316406 72.148438 C 243.175781 74.328125 244.957031 76.570312 246.652344 78.878906 L 150 150 \" style=\" stroke:none;fill-rule:nonzero;fill:url(#radial79);\"/>\n",
       "<path d=\"M 150 150 L 246.582031 78.78125 C 248.28125 81.085938 249.898438 83.453125 251.429688 85.875 L 150 150 \" style=\" stroke:none;fill-rule:nonzero;fill:url(#radial80);\"/>\n",
       "<path d=\"M 150 150 L 251.363281 85.773438 C 252.898438 88.191406 254.34375 90.664062 255.699219 93.1875 L 150 150 \" style=\" stroke:none;fill-rule:nonzero;fill:url(#radial81);\"/>\n",
       "<path d=\"M 150 150 L 255.644531 93.082031 C 257 95.605469 258.269531 98.171875 259.445312 100.785156 L 150 150 \" style=\" stroke:none;fill-rule:nonzero;fill:url(#radial82);\"/>\n",
       "<path d=\"M 150 150 L 259.394531 100.675781 C 260.570312 103.289062 261.65625 105.941406 262.644531 108.628906 L 150 150 \" style=\" stroke:none;fill-rule:nonzero;fill:url(#radial83);\"/>\n",
       "<path d=\"M 150 150 L 262.601562 108.515625 C 263.589844 111.203125 264.484375 113.925781 265.28125 116.675781 L 150 150 \" style=\" stroke:none;fill-rule:nonzero;fill:url(#radial84);\"/>\n",
       "<path d=\"M 150 150 L 265.246094 116.5625 C 266.046875 119.3125 266.746094 122.089844 267.34375 124.890625 L 150 150 \" style=\" stroke:none;fill-rule:nonzero;fill:url(#radial85);\"/>\n",
       "<path d=\"M 150 150 L 267.320312 124.773438 C 267.921875 127.574219 268.421875 130.394531 268.824219 133.230469 L 150 150 \" style=\" stroke:none;fill-rule:nonzero;fill:url(#radial86);\"/>\n",
       "<path d=\"M 150 150 L 268.804688 133.113281 C 269.207031 135.949219 269.511719 138.796875 269.710938 141.65625 L 150 150 \" style=\" stroke:none;fill-rule:nonzero;fill:url(#radial87);\"/>\n",
       "<path d=\"M 150 150 L 269.699219 141.535156 C 269.902344 144.390625 270.003906 147.253906 270 150.121094 L 150 150 \" style=\" stroke:none;fill-rule:nonzero;fill:url(#radial88);\"/>\n",
       "</g>\n",
       "</svg>"
      ],
      "text/plain": [
       "<IPython.core.display.SVG object>"
      ]
     },
     "execution_count": 175,
     "metadata": {},
     "output_type": "execute_result"
    }
   ],
   "source": [
    "from io import BytesIO\n",
    "\n",
    "import cairo\n",
    "import IPython.display\n",
    "\n",
    "svgio = BytesIO()\n",
    "\n",
    "def pie_slice(ctx,x,y,r,a1,a2):\n",
    "    ctx.move_to(0,0)\n",
    "    # Arc(cx, cy, radius, start_angle, stop_angle)\n",
    "    ctx.arc(x,y,r,a1,a2)\n",
    "    ctx.line_to(0,0)\n",
    "    \n",
    "with cairo.SVGSurface(svgio, 300, 300) as surface:\n",
    "    ctx = cairo.Context(surface)\n",
    "    ctx.scale(300, 300)\n",
    "\n",
    "    ctx.translate(0.5, 0.5)  # Changing the current transformation matrix\n",
    "\n",
    "    th_range = np.linspace(0,2*np.pi,90)\n",
    "    for th1, th2 in zip(th_range,th_range[1:]):\n",
    "        color = hsv_to_rgb((th1/(np.pi*2),1,1))\n",
    "        \n",
    "        r2 = cairo.RadialGradient(0, 0, 0, 0, 0, 1)\n",
    "        r2.add_color_stop_rgb(0, 1, 1, 1)\n",
    "        r2.add_color_stop_rgb(0.4, *color)\n",
    "        \n",
    "        ctx.set_source(r2)\n",
    "        pie_slice(ctx,0,0,0.4,th1,th2+0.001)\n",
    "        #ctx.arc(0,0,0.4,0,np.pi*2)\n",
    "        #ctx.set_source_rgb(*color)  # Solid color\n",
    "        #ctx.set_line_width(0)\n",
    "        \n",
    "        ctx.fill()\n",
    "IPython.display.SVG(data=svgio.getvalue())"
   ]
  },
  {
   "cell_type": "code",
   "execution_count": 188,
   "metadata": {},
   "outputs": [
    {
     "data": {
      "image/svg+xml": [
       "<svg height=\"300pt\" version=\"1.1\" viewBox=\"0 0 300 300\" width=\"300pt\" xmlns=\"http://www.w3.org/2000/svg\" xmlns:xlink=\"http://www.w3.org/1999/xlink\">\n",
       "<defs>\n",
       "<image height=\"1250\" id=\"image388\" width=\"1250\" xlink:href=\"data:image/png;base64,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\"/>\n",
       "</defs>\n",
       "<g id=\"surface384\">\n",
       "<use transform=\"matrix(0.24,0,0,0.24,0,0)\" xlink:href=\"#image388\"/>\n",
       "</g>\n",
       "</svg>"
      ],
      "text/plain": [
       "<IPython.core.display.SVG object>"
      ]
     },
     "execution_count": 188,
     "metadata": {},
     "output_type": "execute_result"
    }
   ],
   "source": [
    "svgio = BytesIO()\n",
    "\n",
    "with cairo.SVGSurface(svgio, 300, 300) as surface:\n",
    "    ctx = cairo.Context(surface)\n",
    "    ctx.scale(300, 300)\n",
    "\n",
    "    #ctx.translate(0.5, 0.5)  # Changing the current transformation matrix\n",
    "\n",
    "    pattern = cairo.MeshPattern()\n",
    "    pattern.begin_patch()\n",
    "    pattern.move_to(100/300, 100/300)\n",
    "    pattern.line_to(130/300, 130/300)\n",
    "    pattern.line_to(130/300, 70/300)\n",
    "    pattern.set_corner_color_rgb(0, 1, 0, 0)\n",
    "    pattern.set_corner_color_rgb(1, 0, 1, 0)\n",
    "    pattern.set_corner_color_rgb(2, 0, 0, 1)\n",
    "    pattern.end_patch()\n",
    "    \n",
    "    ctx.rectangle(0,0,300,300)\n",
    "    ctx.set_source(pattern)\n",
    "    ctx.fill()\n",
    "    \n",
    "IPython.display.SVG(data=svgio.getvalue())"
   ]
  },
  {
   "cell_type": "code",
   "execution_count": 203,
   "metadata": {},
   "outputs": [
    {
     "name": "stdout",
     "output_type": "stream",
     "text": [
      "Ass\n"
     ]
    },
    {
     "ename": "Error",
     "evalue": "invalid index passed to getter",
     "output_type": "error",
     "traceback": [
      "\u001b[0;31m---------------------------------------------------------------------------\u001b[0m",
      "\u001b[0;31mError\u001b[0m                                     Traceback (most recent call last)",
      "\u001b[0;32m<ipython-input-203-756abde36dc5>\u001b[0m in \u001b[0;36m<module>\u001b[0;34m\u001b[0m\n\u001b[1;32m     19\u001b[0m         \u001b[0mth\u001b[0m \u001b[0;34m=\u001b[0m \u001b[0mth_range\u001b[0m\u001b[0;34m[\u001b[0m\u001b[0mi\u001b[0m\u001b[0;34m]\u001b[0m\u001b[0;34m\u001b[0m\u001b[0;34m\u001b[0m\u001b[0m\n\u001b[1;32m     20\u001b[0m         \u001b[0mcolor\u001b[0m \u001b[0;34m=\u001b[0m \u001b[0mhsv_to_rgb\u001b[0m\u001b[0;34m(\u001b[0m\u001b[0;34m(\u001b[0m\u001b[0mth\u001b[0m\u001b[0;34m/\u001b[0m\u001b[0;34m(\u001b[0m\u001b[0mnp\u001b[0m\u001b[0;34m.\u001b[0m\u001b[0mpi\u001b[0m\u001b[0;34m*\u001b[0m\u001b[0;36m2\u001b[0m\u001b[0;34m)\u001b[0m\u001b[0;34m,\u001b[0m\u001b[0;36m1\u001b[0m\u001b[0;34m,\u001b[0m\u001b[0;36m1\u001b[0m\u001b[0;34m)\u001b[0m\u001b[0;34m)\u001b[0m\u001b[0;34m\u001b[0m\u001b[0;34m\u001b[0m\u001b[0m\n\u001b[0;32m---> 21\u001b[0;31m         \u001b[0mpattern\u001b[0m\u001b[0;34m.\u001b[0m\u001b[0mset_corner_color_rgb\u001b[0m\u001b[0;34m(\u001b[0m\u001b[0mi\u001b[0m\u001b[0;34m,\u001b[0m\u001b[0;34m*\u001b[0m\u001b[0mcolor\u001b[0m\u001b[0;34m)\u001b[0m\u001b[0;34m\u001b[0m\u001b[0;34m\u001b[0m\u001b[0m\n\u001b[0m\u001b[1;32m     22\u001b[0m     \u001b[0mpattern\u001b[0m\u001b[0;34m.\u001b[0m\u001b[0mend_patch\u001b[0m\u001b[0;34m(\u001b[0m\u001b[0;34m)\u001b[0m\u001b[0;34m\u001b[0m\u001b[0;34m\u001b[0m\u001b[0m\n\u001b[1;32m     23\u001b[0m \u001b[0;34m\u001b[0m\u001b[0m\n",
      "\u001b[0;31mError\u001b[0m: invalid index passed to getter"
     ]
    }
   ],
   "source": [
    "svgio = BytesIO()\n",
    "\n",
    "with cairo.SVGSurface(svgio, 300, 300) as surface:\n",
    "    ctx = cairo.Context(surface)\n",
    "    ctx.scale(300, 300)\n",
    "\n",
    "    ctx.translate(0.5, 0.5)  # Changing the current transformation matrix\n",
    "    th_range = np.linspace(0,np.pi*2,5)\n",
    "    pattern = cairo.MeshPattern()\n",
    "    pattern.begin_patch()\n",
    "    pattern.move_to(0,0)\n",
    "    \n",
    "    if True:\n",
    "        print(\"Ass\")\n",
    "        pattern.line_to(100,100)\n",
    "        pattern.line_to(100,100)\n",
    "        #pattern.line_to(0.5*np.cos(th)+0.5,0.5*np.sin(th)+0.5)\n",
    "    for i in range(len(th_range)):\n",
    "        th = th_range[i]\n",
    "        color = hsv_to_rgb((th/(np.pi*2),1,1))\n",
    "        pattern.set_corner_color_rgb(i,*color)\n",
    "    pattern.end_patch()\n",
    "\n",
    "#     pattern.move_to(100/300, 100/300)\n",
    "#     pattern.line_to(130/300, 130/300)\n",
    "#     pattern.line_to(130/300, 70/300)\n",
    "#     pattern.set_corner_color_rgb(0, 1, 0, 0)\n",
    "#     pattern.set_corner_color_rgb(1, 0, 1, 0)\n",
    "#     pattern.set_corner_color_rgb(2, 0, 0, 1)\n",
    "    pattern.end_patch()\n",
    "    \n",
    "    ctx.arc(0,0,0.5,0,np.pi*2)\n",
    "    ctx.set_source(pattern)\n",
    "    ctx.fill()\n",
    "    \n",
    "IPython.display.SVG(data=svgio.getvalue())"
   ]
  },
  {
   "cell_type": "code",
   "execution_count": 151,
   "metadata": {},
   "outputs": [],
   "source": [
    "with cairo.SVGSurface(svgio, 400, 400) as surface:\n",
    "    ctx = cairo.Context(surface)\n",
    "    ctx.scale(400, 400)\n",
    "\n",
    "    ctx.translate(0.5, 0.5)  # Changing the current transformation matrix\n",
    "\n",
    "    r2 = cairo.RadialGradient(0, 0, 10, 0, 0, 40)\n",
    "    r2.add_color_stop_rgb(0, 1, 1, 0)\n",
    "    r2.add_color_stop_rgb(0.8, 0, 0, 0)\n",
    "    ctx.set_source(r2)\n",
    "    ctx.arc(0, 0, 40, 0, math.pi * 2)\n",
    "    ctx.fill()  \n"
   ]
  },
  {
   "cell_type": "code",
   "execution_count": 70,
   "metadata": {},
   "outputs": [],
   "source": [
    "from matplotlib.colors import hsv_to_rgb\n",
    "@np.vectorize\n",
    "def calc_disk_color(x,y):\n",
    "    r = np.sqrt(x*x+y*y)\n",
    "    th = np.angle(x + 1j*y)\n",
    "    hue = (th + np.pi)/(2*np.pi)\n",
    "    sat = r if r < 1 else 0\n",
    "    return np.array(list(hsv_to_rgb((hue,sat,1))))"
   ]
  },
  {
   "cell_type": "code",
   "execution_count": 55,
   "metadata": {},
   "outputs": [
    {
     "data": {
      "text/plain": [
       "1.5697963271282296"
      ]
     },
     "execution_count": 55,
     "metadata": {},
     "output_type": "execute_result"
    }
   ],
   "source": [
    "np.angle(-0.001 - 1j)+ np.pi"
   ]
  },
  {
   "cell_type": "code",
   "execution_count": 32,
   "metadata": {},
   "outputs": [
    {
     "data": {
      "text/plain": [
       "[<matplotlib.lines.Line2D at 0x123cd0e90>]"
      ]
     },
     "execution_count": 32,
     "metadata": {},
     "output_type": "execute_result"
    },
    {
     "data": {
      "image/png": "[encoded data removed]",
      "text/plain": [
       "<Figure size 432x288 with 1 Axes>"
      ]
     },
     "metadata": {
      "needs_background": "light"
     },
     "output_type": "display_data"
    }
   ],
   "source": [
    "plt.plot([0,1],[0,1],c=hsv_to_rgb([1,1,1]))"
   ]
  },
  {
   "cell_type": "code",
   "execution_count": 76,
   "metadata": {},
   "outputs": [
    {
     "data": {
      "text/plain": [
       "<matplotlib.image.AxesImage at 0x125145550>"
      ]
     },
     "execution_count": 76,
     "metadata": {},
     "output_type": "execute_result"
    },
    {
     "data": {
      "image/png": "[encoded data removed]",
      "text/plain": [
       "<Figure size 432x288 with 1 Axes>"
      ]
     },
     "metadata": {
      "needs_background": "light"
     },
     "output_type": "display_data"
    }
   ],
   "source": [
    "grids = np.meshgrid(np.linspace(-1,1,80),\n",
    "                    np.linspace(-1,1,80),\n",
    "                    indexing='ij')\n",
    "vals = np.vectorize(calc_disk_color,signature='(),()->(k)')(*grids)\n",
    "plt.imshow(vals,interpolation='nearest')"
   ]
  },
  {
   "cell_type": "code",
   "execution_count": 60,
   "metadata": {},
   "outputs": [
    {
     "data": {
      "text/plain": [
       "(10, 10, 3)"
      ]
     },
     "execution_count": 60,
     "metadata": {},
     "output_type": "execute_result"
    }
   ],
   "source": [
    "vals.shape"
   ]
  },
  {
   "cell_type": "code",
   "execution_count": 63,
   "metadata": {},
   "outputs": [
    {
     "data": {
      "text/plain": [
       "<matplotlib.image.AxesImage at 0x123f7c510>"
      ]
     },
     "execution_count": 63,
     "metadata": {},
     "output_type": "execute_result"
    },
    {
     "data": {
      "image/png": "[encoded data removed]",
      "text/plain": [
       "<Figure size 432x288 with 1 Axes>"
      ]
     },
     "metadata": {
      "needs_background": "light"
     },
     "output_type": "display_data"
    }
   ],
   "source": [
    "plt.imshow(vals)"
   ]
  },
  {
   "cell_type": "code",
   "execution_count": 41,
   "metadata": {},
   "outputs": [
    {
     "data": {
      "image/png": "[encoded data removed]",
      "text/plain": [
       "<Figure size 432x288 with 1 Axes>"
      ]
     },
     "metadata": {
      "needs_background": "light"
     },
     "output_type": "display_data"
    }
   ],
   "source": [
    "\n",
    "plt.plot([0,1],[0,1],c=np.array([1,1,0])); plt.show()"
   ]
  },
  {
   "cell_type": "code",
   "execution_count": null,
   "metadata": {},
   "outputs": [],
   "source": []
  }
 ],
 "metadata": {
  "kernelspec": {
   "display_name": "Python 3",
   "language": "python",
   "name": "python3"
  },
  "language_info": {
   "codemirror_mode": {
    "name": "ipython",
    "version": 3
   },
   "file_extension": ".py",
   "mimetype": "text/x-python",
   "name": "python",
   "nbconvert_exporter": "python",
   "pygments_lexer": "ipython3",
   "version": "3.7.4"
  },
  "latex_envs": {
   "LaTeX_envs_menu_present": true,
   "autoclose": false,
   "autocomplete": true,
   "bibliofile": "biblio.bib",
   "cite_by": "apalike",
   "current_citInitial": 1,
   "eqLabelWithNumbers": true,
   "eqNumInitial": 1,
   "hotkeys": {
    "equation": "Ctrl-E",
    "itemize": "Ctrl-I"
   },
   "labels_anchors": false,
   "latex_user_defs": false,
   "report_style_numbering": false,
   "user_envs_cfg": false
  },
  "toc": {
   "base_numbering": 1,
   "nav_menu": {},
   "number_sections": true,
   "sideBar": true,
   "skip_h1_title": false,
   "title_cell": "Table of Contents",
   "title_sidebar": "Contents",
   "toc_cell": false,
   "toc_position": {},
   "toc_section_display": true,
   "toc_window_display": false
  },
  "varInspector": {
   "cols": {
    "lenName": 16,
    "lenType": 16,
    "lenVar": 40
   },
   "kernels_config": {
    "python": {
     "delete_cmd_postfix": "",
     "delete_cmd_prefix": "del ",
     "library": "var_list.py",
     "varRefreshCmd": "print(var_dic_list())"
    },
    "r": {
     "delete_cmd_postfix": ") ",
     "delete_cmd_prefix": "rm(",
     "library": "var_list.r",
     "varRefreshCmd": "cat(var_dic_list()) "
    }
   },
   "types_to_exclude": [
    "module",
    "function",
    "builtin_function_or_method",
    "instance",
    "_Feature"
   ],
   "window_display": false
  }
 },
 "nbformat": 4,
 "nbformat_minor": 4
}
